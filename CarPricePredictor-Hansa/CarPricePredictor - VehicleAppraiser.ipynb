{
 "cells": [
  {
   "cell_type": "markdown",
   "id": "4b41f49c",
   "metadata": {},
   "source": [
    "### Importing the required Libraries\n"
   ]
  },
  {
   "cell_type": "code",
   "execution_count": 1,
   "id": "364d4a9c",
   "metadata": {},
   "outputs": [],
   "source": [
    "import numpy as np\n",
    "import pandas as pd\n",
    "import matplotlib.pyplot as plt\n",
    "import seaborn as sns\n",
    "from matplotlib.figure import Figure\n",
    "from mpl_toolkits.mplot3d import Axes3D\n",
    "from matplotlib.colors import ListedColormap\n",
    "import warnings\n",
    "warnings.filterwarnings(\"ignore\", category=FutureWarning)"
   ]
  },
  {
   "cell_type": "markdown",
   "id": "d98a9325",
   "metadata": {},
   "source": [
    "### Importing the dataset\n",
    "\n"
   ]
  },
  {
   "cell_type": "code",
   "execution_count": 2,
   "id": "0be9ac14",
   "metadata": {},
   "outputs": [],
   "source": [
    "df = pd.read_csv('vehicle_dataset.csv')"
   ]
  },
  {
   "cell_type": "code",
   "execution_count": 3,
   "id": "5568a56d",
   "metadata": {},
   "outputs": [
    {
     "data": {
      "text/html": [
       "<div>\n",
       "<style scoped>\n",
       "    .dataframe tbody tr th:only-of-type {\n",
       "        vertical-align: middle;\n",
       "    }\n",
       "\n",
       "    .dataframe tbody tr th {\n",
       "        vertical-align: top;\n",
       "    }\n",
       "\n",
       "    .dataframe thead th {\n",
       "        text-align: right;\n",
       "    }\n",
       "</style>\n",
       "<table border=\"1\" class=\"dataframe\">\n",
       "  <thead>\n",
       "    <tr style=\"text-align: right;\">\n",
       "      <th></th>\n",
       "      <th>Title</th>\n",
       "      <th>Sub_title</th>\n",
       "      <th>Price</th>\n",
       "      <th>Brand</th>\n",
       "      <th>Model</th>\n",
       "      <th>Edition</th>\n",
       "      <th>Year</th>\n",
       "      <th>Condition</th>\n",
       "      <th>Transmission</th>\n",
       "      <th>Body</th>\n",
       "      <th>Fuel</th>\n",
       "      <th>Capacity</th>\n",
       "      <th>Mileage</th>\n",
       "      <th>Location</th>\n",
       "      <th>Description</th>\n",
       "      <th>Post_URL</th>\n",
       "      <th>Seller_name</th>\n",
       "      <th>Seller_type</th>\n",
       "      <th>published_date</th>\n",
       "    </tr>\n",
       "  </thead>\n",
       "  <tbody>\n",
       "    <tr>\n",
       "      <th>0</th>\n",
       "      <td>Micro Panda Auto 2019 for sale</td>\n",
       "      <td>Posted on 02 Jul 6:27 am, Kesbewa, Colombo</td>\n",
       "      <td>Rs 2,795,000</td>\n",
       "      <td>Micro</td>\n",
       "      <td>Panda</td>\n",
       "      <td>Auto</td>\n",
       "      <td>2019</td>\n",
       "      <td>Used</td>\n",
       "      <td>Automatic</td>\n",
       "      <td>Hatchback</td>\n",
       "      <td>Petrol</td>\n",
       "      <td>1,000 cc</td>\n",
       "      <td>14,000 km</td>\n",
       "      <td>Kesbewa,  Colombo</td>\n",
       "      <td>â¤ Auto Auto Autoâ¤ Micro Panda CBH-xxxx 201...</td>\n",
       "      <td>https://ikman.lk/en/ad/micro-panda-auto-2019-f...</td>\n",
       "      <td>Sarath</td>\n",
       "      <td>Member</td>\n",
       "      <td>2021-07-02 06:27:00</td>\n",
       "    </tr>\n",
       "    <tr>\n",
       "      <th>1</th>\n",
       "      <td>Toyota GT86 Company Maintained 2013 for sale</td>\n",
       "      <td>Posted on 15 Jun 7:38 pm, Rajagiriya, Colombo</td>\n",
       "      <td>Rs 11,500,000</td>\n",
       "      <td>Toyota</td>\n",
       "      <td>GT86</td>\n",
       "      <td>Company Maintained</td>\n",
       "      <td>2013</td>\n",
       "      <td>Used</td>\n",
       "      <td>Automatic</td>\n",
       "      <td>CoupÃ©/Sports</td>\n",
       "      <td>Petrol</td>\n",
       "      <td>2,000 cc</td>\n",
       "      <td>27,000 km</td>\n",
       "      <td>Rajagiriya,  Colombo</td>\n",
       "      <td>Toyota Gt86 Company maintained2013 Manufacture...</td>\n",
       "      <td>https://ikman.lk/en/ad/toyota-gt86-company-mai...</td>\n",
       "      <td>D&amp;D Auto Parts</td>\n",
       "      <td>Premium-Member</td>\n",
       "      <td>2021-06-15 19:38:00</td>\n",
       "    </tr>\n",
       "    <tr>\n",
       "      <th>2</th>\n",
       "      <td>Toyota IST FL , GRADE 2003 for sale</td>\n",
       "      <td>Posted on 05 Jul 1:36 pm, Marawila, Puttalam</td>\n",
       "      <td>Rs 3,300,000</td>\n",
       "      <td>Toyota</td>\n",
       "      <td>IST</td>\n",
       "      <td>FL , GRADE</td>\n",
       "      <td>2003</td>\n",
       "      <td>Used</td>\n",
       "      <td>Automatic</td>\n",
       "      <td>Hatchback</td>\n",
       "      <td>Petrol</td>\n",
       "      <td>1,300 cc</td>\n",
       "      <td>150,000 km</td>\n",
       "      <td>Marawila,  Puttalam</td>\n",
       "      <td>TOYOTA ISTFL GRADEKD ; &gt;&gt;&gt;&gt; NUMBERYOM 2003RAGE...</td>\n",
       "      <td>https://ikman.lk/en/ad/toyota-ist-fl-grade-200...</td>\n",
       "      <td>Bihan Enterprises</td>\n",
       "      <td>Premium-Member</td>\n",
       "      <td>2021-07-05 13:36:00</td>\n",
       "    </tr>\n",
       "    <tr>\n",
       "      <th>3</th>\n",
       "      <td>Toyota Allion 240 2002 for sale</td>\n",
       "      <td>Posted on 05 Jul 1:33 pm, Peradeniya, Kandy</td>\n",
       "      <td>Rs 4,450,000</td>\n",
       "      <td>Toyota</td>\n",
       "      <td>Allion</td>\n",
       "      <td>240</td>\n",
       "      <td>2002</td>\n",
       "      <td>Used</td>\n",
       "      <td>Automatic</td>\n",
       "      <td>Saloon</td>\n",
       "      <td>Petrol</td>\n",
       "      <td>1,500 cc</td>\n",
       "      <td>124,000 km</td>\n",
       "      <td>Peradeniya,  Kandy</td>\n",
       "      <td>Toyota Allion 240CP KA-4xxxManufactured 2002Re...</td>\n",
       "      <td>https://ikman.lk/en/ad/toyota-allion-240-2002-...</td>\n",
       "      <td>Free Bird Media (Pvt) Ltd</td>\n",
       "      <td>Member</td>\n",
       "      <td>2021-07-05 13:33:00</td>\n",
       "    </tr>\n",
       "    <tr>\n",
       "      <th>4</th>\n",
       "      <td>Micro Panda LC 1.0 2015 for sale</td>\n",
       "      <td>Posted on 05 Jul 1:30 pm, Veyangoda, Gampaha</td>\n",
       "      <td>Rs 2,173,000</td>\n",
       "      <td>Micro</td>\n",
       "      <td>Panda</td>\n",
       "      <td>LC 1.0</td>\n",
       "      <td>2015</td>\n",
       "      <td>Used</td>\n",
       "      <td>Manual</td>\n",
       "      <td>Hatchback</td>\n",
       "      <td>Petrol</td>\n",
       "      <td>1,000 cc</td>\n",
       "      <td>15,800 km</td>\n",
       "      <td>Veyangoda,  Gampaha</td>\n",
       "      <td>CAJ XXXX ,Silver colour ,1st Owner , Full Opti...</td>\n",
       "      <td>https://ikman.lk/en/ad/micro-panda-lc-10-2015-...</td>\n",
       "      <td>Harsha Anuradhi</td>\n",
       "      <td>Member</td>\n",
       "      <td>2021-07-05 13:30:00</td>\n",
       "    </tr>\n",
       "  </tbody>\n",
       "</table>\n",
       "</div>"
      ],
      "text/plain": [
       "                                          Title  \\\n",
       "0                Micro Panda Auto 2019 for sale   \n",
       "1  Toyota GT86 Company Maintained 2013 for sale   \n",
       "2           Toyota IST FL , GRADE 2003 for sale   \n",
       "3               Toyota Allion 240 2002 for sale   \n",
       "4              Micro Panda LC 1.0 2015 for sale   \n",
       "\n",
       "                                       Sub_title          Price   Brand  \\\n",
       "0     Posted on 02 Jul 6:27 am, Kesbewa, Colombo   Rs 2,795,000   Micro   \n",
       "1  Posted on 15 Jun 7:38 pm, Rajagiriya, Colombo  Rs 11,500,000  Toyota   \n",
       "2   Posted on 05 Jul 1:36 pm, Marawila, Puttalam   Rs 3,300,000  Toyota   \n",
       "3    Posted on 05 Jul 1:33 pm, Peradeniya, Kandy   Rs 4,450,000  Toyota   \n",
       "4   Posted on 05 Jul 1:30 pm, Veyangoda, Gampaha   Rs 2,173,000   Micro   \n",
       "\n",
       "    Model             Edition  Year Condition Transmission           Body  \\\n",
       "0   Panda                Auto  2019      Used    Automatic      Hatchback   \n",
       "1    GT86  Company Maintained  2013      Used    Automatic  CoupÃ©/Sports   \n",
       "2     IST          FL , GRADE  2003      Used    Automatic      Hatchback   \n",
       "3  Allion                 240  2002      Used    Automatic         Saloon   \n",
       "4   Panda              LC 1.0  2015      Used       Manual      Hatchback   \n",
       "\n",
       "     Fuel  Capacity     Mileage               Location  \\\n",
       "0  Petrol  1,000 cc   14,000 km      Kesbewa,  Colombo   \n",
       "1  Petrol  2,000 cc   27,000 km   Rajagiriya,  Colombo   \n",
       "2  Petrol  1,300 cc  150,000 km    Marawila,  Puttalam   \n",
       "3  Petrol  1,500 cc  124,000 km     Peradeniya,  Kandy   \n",
       "4  Petrol  1,000 cc   15,800 km    Veyangoda,  Gampaha   \n",
       "\n",
       "                                         Description  \\\n",
       "0  â¤ Auto Auto Autoâ¤ Micro Panda CBH-xxxx 201...   \n",
       "1  Toyota Gt86 Company maintained2013 Manufacture...   \n",
       "2  TOYOTA ISTFL GRADEKD ; >>>> NUMBERYOM 2003RAGE...   \n",
       "3  Toyota Allion 240CP KA-4xxxManufactured 2002Re...   \n",
       "4  CAJ XXXX ,Silver colour ,1st Owner , Full Opti...   \n",
       "\n",
       "                                            Post_URL  \\\n",
       "0  https://ikman.lk/en/ad/micro-panda-auto-2019-f...   \n",
       "1  https://ikman.lk/en/ad/toyota-gt86-company-mai...   \n",
       "2  https://ikman.lk/en/ad/toyota-ist-fl-grade-200...   \n",
       "3  https://ikman.lk/en/ad/toyota-allion-240-2002-...   \n",
       "4  https://ikman.lk/en/ad/micro-panda-lc-10-2015-...   \n",
       "\n",
       "                 Seller_name     Seller_type       published_date  \n",
       "0                     Sarath          Member  2021-07-02 06:27:00  \n",
       "1             D&D Auto Parts  Premium-Member  2021-06-15 19:38:00  \n",
       "2         Bihan Enterprises   Premium-Member  2021-07-05 13:36:00  \n",
       "3  Free Bird Media (Pvt) Ltd          Member  2021-07-05 13:33:00  \n",
       "4            Harsha Anuradhi          Member  2021-07-05 13:30:00  "
      ]
     },
     "execution_count": 3,
     "metadata": {},
     "output_type": "execute_result"
    }
   ],
   "source": [
    "df.head()\n"
   ]
  },
  {
   "cell_type": "markdown",
   "id": "5d9c3781",
   "metadata": {},
   "source": [
    "### Data Cleaning & Preprocessing"
   ]
  },
  {
   "cell_type": "code",
   "execution_count": 4,
   "id": "c11e7863",
   "metadata": {},
   "outputs": [
    {
     "data": {
      "text/plain": [
       "Title             object\n",
       "Sub_title         object\n",
       "Price             object\n",
       "Brand             object\n",
       "Model             object\n",
       "Edition           object\n",
       "Year               int64\n",
       "Condition         object\n",
       "Transmission      object\n",
       "Body              object\n",
       "Fuel              object\n",
       "Capacity          object\n",
       "Mileage           object\n",
       "Location          object\n",
       "Description       object\n",
       "Post_URL          object\n",
       "Seller_name       object\n",
       "Seller_type       object\n",
       "published_date    object\n",
       "dtype: object"
      ]
     },
     "execution_count": 4,
     "metadata": {},
     "output_type": "execute_result"
    }
   ],
   "source": [
    "df.dtypes\n"
   ]
  },
  {
   "cell_type": "markdown",
   "id": "2d9d9e24",
   "metadata": {},
   "source": [
    "#### Converting Columns into appropiate data types\n"
   ]
  },
  {
   "cell_type": "code",
   "execution_count": 5,
   "id": "eb23d7c4",
   "metadata": {},
   "outputs": [],
   "source": [
    "def extract_num(row):\n",
    "    amount = \"\"\n",
    "    for w in row:\n",
    "        if w.isnumeric():\n",
    "            amount += w\n",
    "    return int(amount)\n",
    "\n",
    "df[\"Price\"] = df[\"Price\"].apply(extract_num)\n",
    "df[\"Mileage\"] = df[\"Mileage\"].apply(extract_num)\n",
    "df[\"Capacity\"] = df[\"Capacity\"].apply(extract_num)\n",
    "\n",
    "df = df.rename({\"Price\":\"Price (Rs)\", \"Mileage\":\"Mileage (km)\", \"Capacity\": \"Capacity (cc)\"}, axis=1)\n"
   ]
  },
  {
   "cell_type": "markdown",
   "id": "c713f090",
   "metadata": {},
   "source": [
    "Checking the Null values"
   ]
  },
  {
   "cell_type": "code",
   "execution_count": 6,
   "id": "0fd612c2",
   "metadata": {},
   "outputs": [
    {
     "data": {
      "text/plain": [
       "Title                0\n",
       "Sub_title            0\n",
       "Price (Rs)           0\n",
       "Brand                0\n",
       "Model                0\n",
       "Edition           4423\n",
       "Year                 0\n",
       "Condition            0\n",
       "Transmission         0\n",
       "Body              1712\n",
       "Fuel                 0\n",
       "Capacity (cc)        0\n",
       "Mileage (km)         0\n",
       "Location             0\n",
       "Description          0\n",
       "Post_URL             0\n",
       "Seller_name          0\n",
       "Seller_type          0\n",
       "published_date       0\n",
       "dtype: int64"
      ]
     },
     "execution_count": 6,
     "metadata": {},
     "output_type": "execute_result"
    }
   ],
   "source": [
    "df.isnull().sum()"
   ]
  },
  {
   "cell_type": "code",
   "execution_count": 7,
   "id": "f90fa7e3",
   "metadata": {},
   "outputs": [
    {
     "data": {
      "image/png": "[encoded data removed]",
      "text/plain": [
       "<Figure size 720x432 with 1 Axes>"
      ]
     },
     "metadata": {
      "needs_background": "light"
     },
     "output_type": "display_data"
    }
   ],
   "source": [
    "plt.figure(figsize = (10,6))\n",
    "plt.title(\"Missing values in Each Column\\n\", size = 15)\n",
    "sns.heatmap(df.isnull(), yticklabels=False, cbar=False);"
   ]
  },
  {
   "cell_type": "markdown",
   "id": "96206e79",
   "metadata": {},
   "source": [
    "Imputing missing Values \n",
    "\n",
    "\n"
   ]
  },
  {
   "cell_type": "code",
   "execution_count": 8,
   "id": "2627da57",
   "metadata": {},
   "outputs": [],
   "source": [
    "df['Edition'].fillna(df['Edition'].mode()[0], inplace = True)\n",
    "df['Body'].fillna(df['Body'].mode()[0], inplace = True)"
   ]
  },
  {
   "cell_type": "code",
   "execution_count": 9,
   "id": "69d5aa92",
   "metadata": {},
   "outputs": [
    {
     "data": {
      "text/plain": [
       "Title             0\n",
       "Sub_title         0\n",
       "Price (Rs)        0\n",
       "Brand             0\n",
       "Model             0\n",
       "Edition           0\n",
       "Year              0\n",
       "Condition         0\n",
       "Transmission      0\n",
       "Body              0\n",
       "Fuel              0\n",
       "Capacity (cc)     0\n",
       "Mileage (km)      0\n",
       "Location          0\n",
       "Description       0\n",
       "Post_URL          0\n",
       "Seller_name       0\n",
       "Seller_type       0\n",
       "published_date    0\n",
       "dtype: int64"
      ]
     },
     "execution_count": 9,
     "metadata": {},
     "output_type": "execute_result"
    }
   ],
   "source": [
    "df.isnull().sum()"
   ]
  },
  {
   "cell_type": "code",
   "execution_count": 10,
   "id": "d6621196",
   "metadata": {},
   "outputs": [
    {
     "data": {
      "text/html": [
       "<div>\n",
       "<style scoped>\n",
       "    .dataframe tbody tr th:only-of-type {\n",
       "        vertical-align: middle;\n",
       "    }\n",
       "\n",
       "    .dataframe tbody tr th {\n",
       "        vertical-align: top;\n",
       "    }\n",
       "\n",
       "    .dataframe thead th {\n",
       "        text-align: right;\n",
       "    }\n",
       "</style>\n",
       "<table border=\"1\" class=\"dataframe\">\n",
       "  <thead>\n",
       "    <tr style=\"text-align: right;\">\n",
       "      <th></th>\n",
       "      <th>Title</th>\n",
       "      <th>Sub_title</th>\n",
       "      <th>Price (Rs)</th>\n",
       "      <th>Brand</th>\n",
       "      <th>Model</th>\n",
       "      <th>Edition</th>\n",
       "      <th>Year</th>\n",
       "      <th>Condition</th>\n",
       "      <th>Transmission</th>\n",
       "      <th>Body</th>\n",
       "      <th>Fuel</th>\n",
       "      <th>Capacity (cc)</th>\n",
       "      <th>Mileage (km)</th>\n",
       "      <th>Location</th>\n",
       "      <th>Description</th>\n",
       "      <th>Post_URL</th>\n",
       "      <th>Seller_name</th>\n",
       "      <th>Seller_type</th>\n",
       "      <th>published_date</th>\n",
       "    </tr>\n",
       "  </thead>\n",
       "  <tbody>\n",
       "    <tr>\n",
       "      <th>0</th>\n",
       "      <td>Micro Panda Auto 2019 for sale</td>\n",
       "      <td>Posted on 02 Jul 6:27 am, Kesbewa, Colombo</td>\n",
       "      <td>2795000</td>\n",
       "      <td>Micro</td>\n",
       "      <td>Panda</td>\n",
       "      <td>Auto</td>\n",
       "      <td>2019</td>\n",
       "      <td>Used</td>\n",
       "      <td>Automatic</td>\n",
       "      <td>Hatchback</td>\n",
       "      <td>Petrol</td>\n",
       "      <td>1000</td>\n",
       "      <td>14000</td>\n",
       "      <td>Kesbewa,  Colombo</td>\n",
       "      <td>â¤ Auto Auto Autoâ¤ Micro Panda CBH-xxxx 201...</td>\n",
       "      <td>https://ikman.lk/en/ad/micro-panda-auto-2019-f...</td>\n",
       "      <td>Sarath</td>\n",
       "      <td>Member</td>\n",
       "      <td>2021-07-02 06:27:00</td>\n",
       "    </tr>\n",
       "    <tr>\n",
       "      <th>1</th>\n",
       "      <td>Toyota GT86 Company Maintained 2013 for sale</td>\n",
       "      <td>Posted on 15 Jun 7:38 pm, Rajagiriya, Colombo</td>\n",
       "      <td>11500000</td>\n",
       "      <td>Toyota</td>\n",
       "      <td>GT86</td>\n",
       "      <td>Company Maintained</td>\n",
       "      <td>2013</td>\n",
       "      <td>Used</td>\n",
       "      <td>Automatic</td>\n",
       "      <td>CoupÃ©/Sports</td>\n",
       "      <td>Petrol</td>\n",
       "      <td>2000</td>\n",
       "      <td>27000</td>\n",
       "      <td>Rajagiriya,  Colombo</td>\n",
       "      <td>Toyota Gt86 Company maintained2013 Manufacture...</td>\n",
       "      <td>https://ikman.lk/en/ad/toyota-gt86-company-mai...</td>\n",
       "      <td>D&amp;D Auto Parts</td>\n",
       "      <td>Premium-Member</td>\n",
       "      <td>2021-06-15 19:38:00</td>\n",
       "    </tr>\n",
       "    <tr>\n",
       "      <th>2</th>\n",
       "      <td>Toyota IST FL , GRADE 2003 for sale</td>\n",
       "      <td>Posted on 05 Jul 1:36 pm, Marawila, Puttalam</td>\n",
       "      <td>3300000</td>\n",
       "      <td>Toyota</td>\n",
       "      <td>IST</td>\n",
       "      <td>FL , GRADE</td>\n",
       "      <td>2003</td>\n",
       "      <td>Used</td>\n",
       "      <td>Automatic</td>\n",
       "      <td>Hatchback</td>\n",
       "      <td>Petrol</td>\n",
       "      <td>1300</td>\n",
       "      <td>150000</td>\n",
       "      <td>Marawila,  Puttalam</td>\n",
       "      <td>TOYOTA ISTFL GRADEKD ; &gt;&gt;&gt;&gt; NUMBERYOM 2003RAGE...</td>\n",
       "      <td>https://ikman.lk/en/ad/toyota-ist-fl-grade-200...</td>\n",
       "      <td>Bihan Enterprises</td>\n",
       "      <td>Premium-Member</td>\n",
       "      <td>2021-07-05 13:36:00</td>\n",
       "    </tr>\n",
       "    <tr>\n",
       "      <th>3</th>\n",
       "      <td>Toyota Allion 240 2002 for sale</td>\n",
       "      <td>Posted on 05 Jul 1:33 pm, Peradeniya, Kandy</td>\n",
       "      <td>4450000</td>\n",
       "      <td>Toyota</td>\n",
       "      <td>Allion</td>\n",
       "      <td>240</td>\n",
       "      <td>2002</td>\n",
       "      <td>Used</td>\n",
       "      <td>Automatic</td>\n",
       "      <td>Saloon</td>\n",
       "      <td>Petrol</td>\n",
       "      <td>1500</td>\n",
       "      <td>124000</td>\n",
       "      <td>Peradeniya,  Kandy</td>\n",
       "      <td>Toyota Allion 240CP KA-4xxxManufactured 2002Re...</td>\n",
       "      <td>https://ikman.lk/en/ad/toyota-allion-240-2002-...</td>\n",
       "      <td>Free Bird Media (Pvt) Ltd</td>\n",
       "      <td>Member</td>\n",
       "      <td>2021-07-05 13:33:00</td>\n",
       "    </tr>\n",
       "    <tr>\n",
       "      <th>4</th>\n",
       "      <td>Micro Panda LC 1.0 2015 for sale</td>\n",
       "      <td>Posted on 05 Jul 1:30 pm, Veyangoda, Gampaha</td>\n",
       "      <td>2173000</td>\n",
       "      <td>Micro</td>\n",
       "      <td>Panda</td>\n",
       "      <td>LC 1.0</td>\n",
       "      <td>2015</td>\n",
       "      <td>Used</td>\n",
       "      <td>Manual</td>\n",
       "      <td>Hatchback</td>\n",
       "      <td>Petrol</td>\n",
       "      <td>1000</td>\n",
       "      <td>15800</td>\n",
       "      <td>Veyangoda,  Gampaha</td>\n",
       "      <td>CAJ XXXX ,Silver colour ,1st Owner , Full Opti...</td>\n",
       "      <td>https://ikman.lk/en/ad/micro-panda-lc-10-2015-...</td>\n",
       "      <td>Harsha Anuradhi</td>\n",
       "      <td>Member</td>\n",
       "      <td>2021-07-05 13:30:00</td>\n",
       "    </tr>\n",
       "  </tbody>\n",
       "</table>\n",
       "</div>"
      ],
      "text/plain": [
       "                                          Title  \\\n",
       "0                Micro Panda Auto 2019 for sale   \n",
       "1  Toyota GT86 Company Maintained 2013 for sale   \n",
       "2           Toyota IST FL , GRADE 2003 for sale   \n",
       "3               Toyota Allion 240 2002 for sale   \n",
       "4              Micro Panda LC 1.0 2015 for sale   \n",
       "\n",
       "                                       Sub_title  Price (Rs)   Brand   Model  \\\n",
       "0     Posted on 02 Jul 6:27 am, Kesbewa, Colombo     2795000   Micro   Panda   \n",
       "1  Posted on 15 Jun 7:38 pm, Rajagiriya, Colombo    11500000  Toyota    GT86   \n",
       "2   Posted on 05 Jul 1:36 pm, Marawila, Puttalam     3300000  Toyota     IST   \n",
       "3    Posted on 05 Jul 1:33 pm, Peradeniya, Kandy     4450000  Toyota  Allion   \n",
       "4   Posted on 05 Jul 1:30 pm, Veyangoda, Gampaha     2173000   Micro   Panda   \n",
       "\n",
       "              Edition  Year Condition Transmission           Body    Fuel  \\\n",
       "0                Auto  2019      Used    Automatic      Hatchback  Petrol   \n",
       "1  Company Maintained  2013      Used    Automatic  CoupÃ©/Sports  Petrol   \n",
       "2          FL , GRADE  2003      Used    Automatic      Hatchback  Petrol   \n",
       "3                 240  2002      Used    Automatic         Saloon  Petrol   \n",
       "4              LC 1.0  2015      Used       Manual      Hatchback  Petrol   \n",
       "\n",
       "   Capacity (cc)  Mileage (km)               Location  \\\n",
       "0           1000         14000      Kesbewa,  Colombo   \n",
       "1           2000         27000   Rajagiriya,  Colombo   \n",
       "2           1300        150000    Marawila,  Puttalam   \n",
       "3           1500        124000     Peradeniya,  Kandy   \n",
       "4           1000         15800    Veyangoda,  Gampaha   \n",
       "\n",
       "                                         Description  \\\n",
       "0  â¤ Auto Auto Autoâ¤ Micro Panda CBH-xxxx 201...   \n",
       "1  Toyota Gt86 Company maintained2013 Manufacture...   \n",
       "2  TOYOTA ISTFL GRADEKD ; >>>> NUMBERYOM 2003RAGE...   \n",
       "3  Toyota Allion 240CP KA-4xxxManufactured 2002Re...   \n",
       "4  CAJ XXXX ,Silver colour ,1st Owner , Full Opti...   \n",
       "\n",
       "                                            Post_URL  \\\n",
       "0  https://ikman.lk/en/ad/micro-panda-auto-2019-f...   \n",
       "1  https://ikman.lk/en/ad/toyota-gt86-company-mai...   \n",
       "2  https://ikman.lk/en/ad/toyota-ist-fl-grade-200...   \n",
       "3  https://ikman.lk/en/ad/toyota-allion-240-2002-...   \n",
       "4  https://ikman.lk/en/ad/micro-panda-lc-10-2015-...   \n",
       "\n",
       "                 Seller_name     Seller_type       published_date  \n",
       "0                     Sarath          Member  2021-07-02 06:27:00  \n",
       "1             D&D Auto Parts  Premium-Member  2021-06-15 19:38:00  \n",
       "2         Bihan Enterprises   Premium-Member  2021-07-05 13:36:00  \n",
       "3  Free Bird Media (Pvt) Ltd          Member  2021-07-05 13:33:00  \n",
       "4            Harsha Anuradhi          Member  2021-07-05 13:30:00  "
      ]
     },
     "execution_count": 10,
     "metadata": {},
     "output_type": "execute_result"
    }
   ],
   "source": [
    "df.head()"
   ]
  },
  {
   "cell_type": "code",
   "execution_count": 11,
   "id": "0b6d8048",
   "metadata": {},
   "outputs": [
    {
     "data": {
      "text/plain": [
       "Title             object\n",
       "Sub_title         object\n",
       "Price (Rs)         int64\n",
       "Brand             object\n",
       "Model             object\n",
       "Edition           object\n",
       "Year               int64\n",
       "Condition         object\n",
       "Transmission      object\n",
       "Body              object\n",
       "Fuel              object\n",
       "Capacity (cc)      int64\n",
       "Mileage (km)       int64\n",
       "Location          object\n",
       "Description       object\n",
       "Post_URL          object\n",
       "Seller_name       object\n",
       "Seller_type       object\n",
       "published_date    object\n",
       "dtype: object"
      ]
     },
     "execution_count": 11,
     "metadata": {},
     "output_type": "execute_result"
    }
   ],
   "source": [
    "df.dtypes\n"
   ]
  },
  {
   "cell_type": "code",
   "execution_count": 12,
   "id": "357ada5d",
   "metadata": {},
   "outputs": [
    {
     "data": {
      "text/html": [
       "<div>\n",
       "<style scoped>\n",
       "    .dataframe tbody tr th:only-of-type {\n",
       "        vertical-align: middle;\n",
       "    }\n",
       "\n",
       "    .dataframe tbody tr th {\n",
       "        vertical-align: top;\n",
       "    }\n",
       "\n",
       "    .dataframe thead th {\n",
       "        text-align: right;\n",
       "    }\n",
       "</style>\n",
       "<table border=\"1\" class=\"dataframe\">\n",
       "  <thead>\n",
       "    <tr style=\"text-align: right;\">\n",
       "      <th></th>\n",
       "      <th>Price (Rs)</th>\n",
       "      <th>Year</th>\n",
       "      <th>Capacity (cc)</th>\n",
       "      <th>Mileage (km)</th>\n",
       "    </tr>\n",
       "  </thead>\n",
       "  <tbody>\n",
       "    <tr>\n",
       "      <th>count</th>\n",
       "      <td>1.630900e+04</td>\n",
       "      <td>16309.000000</td>\n",
       "      <td>16309.000000</td>\n",
       "      <td>16309.000000</td>\n",
       "    </tr>\n",
       "    <tr>\n",
       "      <th>mean</th>\n",
       "      <td>6.250761e+06</td>\n",
       "      <td>2008.041388</td>\n",
       "      <td>1496.715188</td>\n",
       "      <td>94578.110062</td>\n",
       "    </tr>\n",
       "    <tr>\n",
       "      <th>std</th>\n",
       "      <td>8.316997e+06</td>\n",
       "      <td>11.400445</td>\n",
       "      <td>735.577866</td>\n",
       "      <td>75317.794862</td>\n",
       "    </tr>\n",
       "    <tr>\n",
       "      <th>min</th>\n",
       "      <td>9.900000e+02</td>\n",
       "      <td>1927.000000</td>\n",
       "      <td>1.000000</td>\n",
       "      <td>0.000000</td>\n",
       "    </tr>\n",
       "    <tr>\n",
       "      <th>25%</th>\n",
       "      <td>2.260000e+06</td>\n",
       "      <td>2003.000000</td>\n",
       "      <td>1000.000000</td>\n",
       "      <td>45000.000000</td>\n",
       "    </tr>\n",
       "    <tr>\n",
       "      <th>50%</th>\n",
       "      <td>3.950000e+06</td>\n",
       "      <td>2013.000000</td>\n",
       "      <td>1490.000000</td>\n",
       "      <td>81000.000000</td>\n",
       "    </tr>\n",
       "    <tr>\n",
       "      <th>75%</th>\n",
       "      <td>6.690000e+06</td>\n",
       "      <td>2016.000000</td>\n",
       "      <td>1800.000000</td>\n",
       "      <td>127323.000000</td>\n",
       "    </tr>\n",
       "    <tr>\n",
       "      <th>max</th>\n",
       "      <td>2.100000e+08</td>\n",
       "      <td>2021.000000</td>\n",
       "      <td>10000.000000</td>\n",
       "      <td>1000000.000000</td>\n",
       "    </tr>\n",
       "  </tbody>\n",
       "</table>\n",
       "</div>"
      ],
      "text/plain": [
       "         Price (Rs)          Year  Capacity (cc)    Mileage (km)\n",
       "count  1.630900e+04  16309.000000   16309.000000    16309.000000\n",
       "mean   6.250761e+06   2008.041388    1496.715188    94578.110062\n",
       "std    8.316997e+06     11.400445     735.577866    75317.794862\n",
       "min    9.900000e+02   1927.000000       1.000000        0.000000\n",
       "25%    2.260000e+06   2003.000000    1000.000000    45000.000000\n",
       "50%    3.950000e+06   2013.000000    1490.000000    81000.000000\n",
       "75%    6.690000e+06   2016.000000    1800.000000   127323.000000\n",
       "max    2.100000e+08   2021.000000   10000.000000  1000000.000000"
      ]
     },
     "execution_count": 12,
     "metadata": {},
     "output_type": "execute_result"
    }
   ],
   "source": [
    "df.describe()"
   ]
  },
  {
   "cell_type": "code",
   "execution_count": 13,
   "id": "6040011f",
   "metadata": {},
   "outputs": [],
   "source": [
    "df['Title'] = df['Brand'] + \" \"+ df['Model']"
   ]
  },
  {
   "cell_type": "code",
   "execution_count": 14,
   "id": "d30a803c",
   "metadata": {},
   "outputs": [],
   "source": [
    "df['published_date'] = pd.to_datetime(df['published_date'])"
   ]
  },
  {
   "cell_type": "markdown",
   "id": "be492e3a",
   "metadata": {},
   "source": [
    "Seperating Year, Month & day for 3 columns"
   ]
  },
  {
   "cell_type": "code",
   "execution_count": 15,
   "id": "c569a46c",
   "metadata": {},
   "outputs": [],
   "source": [
    "# for year\n",
    "df['Published_year'] = pd.DatetimeIndex(df['published_date']).year\n",
    "\n",
    "# for month\n",
    "df['Published_month'] = pd.DatetimeIndex(df['published_date']).month\n",
    "\n",
    "# for day\n",
    "df['Published_day'] = pd.DatetimeIndex(df['published_date']).day"
   ]
  },
  {
   "cell_type": "code",
   "execution_count": 16,
   "id": "1adfb6bd",
   "metadata": {},
   "outputs": [
    {
     "data": {
      "text/plain": [
       "Index(['Title', 'Sub_title', 'Price (Rs)', 'Brand', 'Model', 'Edition', 'Year',\n",
       "       'Condition', 'Transmission', 'Body', 'Fuel', 'Capacity (cc)',\n",
       "       'Mileage (km)', 'Location', 'Description', 'Post_URL', 'Seller_name',\n",
       "       'Seller_type', 'published_date', 'Published_year', 'Published_month',\n",
       "       'Published_day'],\n",
       "      dtype='object')"
      ]
     },
     "execution_count": 16,
     "metadata": {},
     "output_type": "execute_result"
    }
   ],
   "source": [
    "df.columns"
   ]
  },
  {
   "cell_type": "markdown",
   "id": "3183077e",
   "metadata": {},
   "source": [
    "#### Dropping Unnecessary Features"
   ]
  },
  {
   "cell_type": "code",
   "execution_count": 17,
   "id": "5362b664",
   "metadata": {},
   "outputs": [],
   "source": [
    "df.drop([\"Sub_title\",'Description', 'published_date'], axis = 1, inplace = True)"
   ]
  },
  {
   "cell_type": "code",
   "execution_count": 18,
   "id": "6399eac0",
   "metadata": {},
   "outputs": [
    {
     "data": {
      "text/html": [
       "<div>\n",
       "<style scoped>\n",
       "    .dataframe tbody tr th:only-of-type {\n",
       "        vertical-align: middle;\n",
       "    }\n",
       "\n",
       "    .dataframe tbody tr th {\n",
       "        vertical-align: top;\n",
       "    }\n",
       "\n",
       "    .dataframe thead th {\n",
       "        text-align: right;\n",
       "    }\n",
       "</style>\n",
       "<table border=\"1\" class=\"dataframe\">\n",
       "  <thead>\n",
       "    <tr style=\"text-align: right;\">\n",
       "      <th></th>\n",
       "      <th>Title</th>\n",
       "      <th>Price (Rs)</th>\n",
       "      <th>Brand</th>\n",
       "      <th>Model</th>\n",
       "      <th>Edition</th>\n",
       "      <th>Year</th>\n",
       "      <th>Condition</th>\n",
       "      <th>Transmission</th>\n",
       "      <th>Body</th>\n",
       "      <th>Fuel</th>\n",
       "      <th>Capacity (cc)</th>\n",
       "      <th>Mileage (km)</th>\n",
       "      <th>Location</th>\n",
       "      <th>Post_URL</th>\n",
       "      <th>Seller_name</th>\n",
       "      <th>Seller_type</th>\n",
       "      <th>Published_year</th>\n",
       "      <th>Published_month</th>\n",
       "      <th>Published_day</th>\n",
       "    </tr>\n",
       "  </thead>\n",
       "  <tbody>\n",
       "    <tr>\n",
       "      <th>0</th>\n",
       "      <td>Micro Panda</td>\n",
       "      <td>2795000</td>\n",
       "      <td>Micro</td>\n",
       "      <td>Panda</td>\n",
       "      <td>Auto</td>\n",
       "      <td>2019</td>\n",
       "      <td>Used</td>\n",
       "      <td>Automatic</td>\n",
       "      <td>Hatchback</td>\n",
       "      <td>Petrol</td>\n",
       "      <td>1000</td>\n",
       "      <td>14000</td>\n",
       "      <td>Kesbewa,  Colombo</td>\n",
       "      <td>https://ikman.lk/en/ad/micro-panda-auto-2019-f...</td>\n",
       "      <td>Sarath</td>\n",
       "      <td>Member</td>\n",
       "      <td>2021</td>\n",
       "      <td>7</td>\n",
       "      <td>2</td>\n",
       "    </tr>\n",
       "    <tr>\n",
       "      <th>1</th>\n",
       "      <td>Toyota GT86</td>\n",
       "      <td>11500000</td>\n",
       "      <td>Toyota</td>\n",
       "      <td>GT86</td>\n",
       "      <td>Company Maintained</td>\n",
       "      <td>2013</td>\n",
       "      <td>Used</td>\n",
       "      <td>Automatic</td>\n",
       "      <td>CoupÃ©/Sports</td>\n",
       "      <td>Petrol</td>\n",
       "      <td>2000</td>\n",
       "      <td>27000</td>\n",
       "      <td>Rajagiriya,  Colombo</td>\n",
       "      <td>https://ikman.lk/en/ad/toyota-gt86-company-mai...</td>\n",
       "      <td>D&amp;D Auto Parts</td>\n",
       "      <td>Premium-Member</td>\n",
       "      <td>2021</td>\n",
       "      <td>6</td>\n",
       "      <td>15</td>\n",
       "    </tr>\n",
       "    <tr>\n",
       "      <th>2</th>\n",
       "      <td>Toyota IST</td>\n",
       "      <td>3300000</td>\n",
       "      <td>Toyota</td>\n",
       "      <td>IST</td>\n",
       "      <td>FL , GRADE</td>\n",
       "      <td>2003</td>\n",
       "      <td>Used</td>\n",
       "      <td>Automatic</td>\n",
       "      <td>Hatchback</td>\n",
       "      <td>Petrol</td>\n",
       "      <td>1300</td>\n",
       "      <td>150000</td>\n",
       "      <td>Marawila,  Puttalam</td>\n",
       "      <td>https://ikman.lk/en/ad/toyota-ist-fl-grade-200...</td>\n",
       "      <td>Bihan Enterprises</td>\n",
       "      <td>Premium-Member</td>\n",
       "      <td>2021</td>\n",
       "      <td>7</td>\n",
       "      <td>5</td>\n",
       "    </tr>\n",
       "    <tr>\n",
       "      <th>3</th>\n",
       "      <td>Toyota Allion</td>\n",
       "      <td>4450000</td>\n",
       "      <td>Toyota</td>\n",
       "      <td>Allion</td>\n",
       "      <td>240</td>\n",
       "      <td>2002</td>\n",
       "      <td>Used</td>\n",
       "      <td>Automatic</td>\n",
       "      <td>Saloon</td>\n",
       "      <td>Petrol</td>\n",
       "      <td>1500</td>\n",
       "      <td>124000</td>\n",
       "      <td>Peradeniya,  Kandy</td>\n",
       "      <td>https://ikman.lk/en/ad/toyota-allion-240-2002-...</td>\n",
       "      <td>Free Bird Media (Pvt) Ltd</td>\n",
       "      <td>Member</td>\n",
       "      <td>2021</td>\n",
       "      <td>7</td>\n",
       "      <td>5</td>\n",
       "    </tr>\n",
       "    <tr>\n",
       "      <th>4</th>\n",
       "      <td>Micro Panda</td>\n",
       "      <td>2173000</td>\n",
       "      <td>Micro</td>\n",
       "      <td>Panda</td>\n",
       "      <td>LC 1.0</td>\n",
       "      <td>2015</td>\n",
       "      <td>Used</td>\n",
       "      <td>Manual</td>\n",
       "      <td>Hatchback</td>\n",
       "      <td>Petrol</td>\n",
       "      <td>1000</td>\n",
       "      <td>15800</td>\n",
       "      <td>Veyangoda,  Gampaha</td>\n",
       "      <td>https://ikman.lk/en/ad/micro-panda-lc-10-2015-...</td>\n",
       "      <td>Harsha Anuradhi</td>\n",
       "      <td>Member</td>\n",
       "      <td>2021</td>\n",
       "      <td>7</td>\n",
       "      <td>5</td>\n",
       "    </tr>\n",
       "  </tbody>\n",
       "</table>\n",
       "</div>"
      ],
      "text/plain": [
       "           Title  Price (Rs)   Brand   Model             Edition  Year  \\\n",
       "0    Micro Panda     2795000   Micro   Panda                Auto  2019   \n",
       "1    Toyota GT86    11500000  Toyota    GT86  Company Maintained  2013   \n",
       "2     Toyota IST     3300000  Toyota     IST          FL , GRADE  2003   \n",
       "3  Toyota Allion     4450000  Toyota  Allion                 240  2002   \n",
       "4    Micro Panda     2173000   Micro   Panda              LC 1.0  2015   \n",
       "\n",
       "  Condition Transmission           Body    Fuel  Capacity (cc)  Mileage (km)  \\\n",
       "0      Used    Automatic      Hatchback  Petrol           1000         14000   \n",
       "1      Used    Automatic  CoupÃ©/Sports  Petrol           2000         27000   \n",
       "2      Used    Automatic      Hatchback  Petrol           1300        150000   \n",
       "3      Used    Automatic         Saloon  Petrol           1500        124000   \n",
       "4      Used       Manual      Hatchback  Petrol           1000         15800   \n",
       "\n",
       "                Location                                           Post_URL  \\\n",
       "0      Kesbewa,  Colombo  https://ikman.lk/en/ad/micro-panda-auto-2019-f...   \n",
       "1   Rajagiriya,  Colombo  https://ikman.lk/en/ad/toyota-gt86-company-mai...   \n",
       "2    Marawila,  Puttalam  https://ikman.lk/en/ad/toyota-ist-fl-grade-200...   \n",
       "3     Peradeniya,  Kandy  https://ikman.lk/en/ad/toyota-allion-240-2002-...   \n",
       "4    Veyangoda,  Gampaha  https://ikman.lk/en/ad/micro-panda-lc-10-2015-...   \n",
       "\n",
       "                 Seller_name     Seller_type  Published_year  Published_month  \\\n",
       "0                     Sarath          Member            2021                7   \n",
       "1             D&D Auto Parts  Premium-Member            2021                6   \n",
       "2         Bihan Enterprises   Premium-Member            2021                7   \n",
       "3  Free Bird Media (Pvt) Ltd          Member            2021                7   \n",
       "4            Harsha Anuradhi          Member            2021                7   \n",
       "\n",
       "   Published_day  \n",
       "0              2  \n",
       "1             15  \n",
       "2              5  \n",
       "3              5  \n",
       "4              5  "
      ]
     },
     "execution_count": 18,
     "metadata": {},
     "output_type": "execute_result"
    }
   ],
   "source": [
    "df.head()"
   ]
  },
  {
   "cell_type": "code",
   "execution_count": 19,
   "id": "f9ae9b3d",
   "metadata": {},
   "outputs": [],
   "source": [
    "df['Current_year'] = 2022"
   ]
  },
  {
   "cell_type": "code",
   "execution_count": 20,
   "id": "bc6d8799",
   "metadata": {},
   "outputs": [],
   "source": [
    "df['Years_Old'] = df['Current_year'] - df['Published_year']"
   ]
  },
  {
   "cell_type": "code",
   "execution_count": 21,
   "id": "1bf80eb1",
   "metadata": {},
   "outputs": [
    {
     "data": {
      "text/html": [
       "<div>\n",
       "<style scoped>\n",
       "    .dataframe tbody tr th:only-of-type {\n",
       "        vertical-align: middle;\n",
       "    }\n",
       "\n",
       "    .dataframe tbody tr th {\n",
       "        vertical-align: top;\n",
       "    }\n",
       "\n",
       "    .dataframe thead th {\n",
       "        text-align: right;\n",
       "    }\n",
       "</style>\n",
       "<table border=\"1\" class=\"dataframe\">\n",
       "  <thead>\n",
       "    <tr style=\"text-align: right;\">\n",
       "      <th></th>\n",
       "      <th>Title</th>\n",
       "      <th>Price (Rs)</th>\n",
       "      <th>Brand</th>\n",
       "      <th>Model</th>\n",
       "      <th>Edition</th>\n",
       "      <th>Year</th>\n",
       "      <th>Condition</th>\n",
       "      <th>Transmission</th>\n",
       "      <th>Body</th>\n",
       "      <th>Fuel</th>\n",
       "      <th>...</th>\n",
       "      <th>Mileage (km)</th>\n",
       "      <th>Location</th>\n",
       "      <th>Post_URL</th>\n",
       "      <th>Seller_name</th>\n",
       "      <th>Seller_type</th>\n",
       "      <th>Published_year</th>\n",
       "      <th>Published_month</th>\n",
       "      <th>Published_day</th>\n",
       "      <th>Current_year</th>\n",
       "      <th>Years_Old</th>\n",
       "    </tr>\n",
       "  </thead>\n",
       "  <tbody>\n",
       "    <tr>\n",
       "      <th>0</th>\n",
       "      <td>Micro Panda</td>\n",
       "      <td>2795000</td>\n",
       "      <td>Micro</td>\n",
       "      <td>Panda</td>\n",
       "      <td>Auto</td>\n",
       "      <td>2019</td>\n",
       "      <td>Used</td>\n",
       "      <td>Automatic</td>\n",
       "      <td>Hatchback</td>\n",
       "      <td>Petrol</td>\n",
       "      <td>...</td>\n",
       "      <td>14000</td>\n",
       "      <td>Kesbewa,  Colombo</td>\n",
       "      <td>https://ikman.lk/en/ad/micro-panda-auto-2019-f...</td>\n",
       "      <td>Sarath</td>\n",
       "      <td>Member</td>\n",
       "      <td>2021</td>\n",
       "      <td>7</td>\n",
       "      <td>2</td>\n",
       "      <td>2022</td>\n",
       "      <td>1</td>\n",
       "    </tr>\n",
       "    <tr>\n",
       "      <th>1</th>\n",
       "      <td>Toyota GT86</td>\n",
       "      <td>11500000</td>\n",
       "      <td>Toyota</td>\n",
       "      <td>GT86</td>\n",
       "      <td>Company Maintained</td>\n",
       "      <td>2013</td>\n",
       "      <td>Used</td>\n",
       "      <td>Automatic</td>\n",
       "      <td>CoupÃ©/Sports</td>\n",
       "      <td>Petrol</td>\n",
       "      <td>...</td>\n",
       "      <td>27000</td>\n",
       "      <td>Rajagiriya,  Colombo</td>\n",
       "      <td>https://ikman.lk/en/ad/toyota-gt86-company-mai...</td>\n",
       "      <td>D&amp;D Auto Parts</td>\n",
       "      <td>Premium-Member</td>\n",
       "      <td>2021</td>\n",
       "      <td>6</td>\n",
       "      <td>15</td>\n",
       "      <td>2022</td>\n",
       "      <td>1</td>\n",
       "    </tr>\n",
       "    <tr>\n",
       "      <th>2</th>\n",
       "      <td>Toyota IST</td>\n",
       "      <td>3300000</td>\n",
       "      <td>Toyota</td>\n",
       "      <td>IST</td>\n",
       "      <td>FL , GRADE</td>\n",
       "      <td>2003</td>\n",
       "      <td>Used</td>\n",
       "      <td>Automatic</td>\n",
       "      <td>Hatchback</td>\n",
       "      <td>Petrol</td>\n",
       "      <td>...</td>\n",
       "      <td>150000</td>\n",
       "      <td>Marawila,  Puttalam</td>\n",
       "      <td>https://ikman.lk/en/ad/toyota-ist-fl-grade-200...</td>\n",
       "      <td>Bihan Enterprises</td>\n",
       "      <td>Premium-Member</td>\n",
       "      <td>2021</td>\n",
       "      <td>7</td>\n",
       "      <td>5</td>\n",
       "      <td>2022</td>\n",
       "      <td>1</td>\n",
       "    </tr>\n",
       "    <tr>\n",
       "      <th>3</th>\n",
       "      <td>Toyota Allion</td>\n",
       "      <td>4450000</td>\n",
       "      <td>Toyota</td>\n",
       "      <td>Allion</td>\n",
       "      <td>240</td>\n",
       "      <td>2002</td>\n",
       "      <td>Used</td>\n",
       "      <td>Automatic</td>\n",
       "      <td>Saloon</td>\n",
       "      <td>Petrol</td>\n",
       "      <td>...</td>\n",
       "      <td>124000</td>\n",
       "      <td>Peradeniya,  Kandy</td>\n",
       "      <td>https://ikman.lk/en/ad/toyota-allion-240-2002-...</td>\n",
       "      <td>Free Bird Media (Pvt) Ltd</td>\n",
       "      <td>Member</td>\n",
       "      <td>2021</td>\n",
       "      <td>7</td>\n",
       "      <td>5</td>\n",
       "      <td>2022</td>\n",
       "      <td>1</td>\n",
       "    </tr>\n",
       "    <tr>\n",
       "      <th>4</th>\n",
       "      <td>Micro Panda</td>\n",
       "      <td>2173000</td>\n",
       "      <td>Micro</td>\n",
       "      <td>Panda</td>\n",
       "      <td>LC 1.0</td>\n",
       "      <td>2015</td>\n",
       "      <td>Used</td>\n",
       "      <td>Manual</td>\n",
       "      <td>Hatchback</td>\n",
       "      <td>Petrol</td>\n",
       "      <td>...</td>\n",
       "      <td>15800</td>\n",
       "      <td>Veyangoda,  Gampaha</td>\n",
       "      <td>https://ikman.lk/en/ad/micro-panda-lc-10-2015-...</td>\n",
       "      <td>Harsha Anuradhi</td>\n",
       "      <td>Member</td>\n",
       "      <td>2021</td>\n",
       "      <td>7</td>\n",
       "      <td>5</td>\n",
       "      <td>2022</td>\n",
       "      <td>1</td>\n",
       "    </tr>\n",
       "  </tbody>\n",
       "</table>\n",
       "<p>5 rows × 21 columns</p>\n",
       "</div>"
      ],
      "text/plain": [
       "           Title  Price (Rs)   Brand   Model             Edition  Year  \\\n",
       "0    Micro Panda     2795000   Micro   Panda                Auto  2019   \n",
       "1    Toyota GT86    11500000  Toyota    GT86  Company Maintained  2013   \n",
       "2     Toyota IST     3300000  Toyota     IST          FL , GRADE  2003   \n",
       "3  Toyota Allion     4450000  Toyota  Allion                 240  2002   \n",
       "4    Micro Panda     2173000   Micro   Panda              LC 1.0  2015   \n",
       "\n",
       "  Condition Transmission           Body    Fuel  ...  Mileage (km)  \\\n",
       "0      Used    Automatic      Hatchback  Petrol  ...         14000   \n",
       "1      Used    Automatic  CoupÃ©/Sports  Petrol  ...         27000   \n",
       "2      Used    Automatic      Hatchback  Petrol  ...        150000   \n",
       "3      Used    Automatic         Saloon  Petrol  ...        124000   \n",
       "4      Used       Manual      Hatchback  Petrol  ...         15800   \n",
       "\n",
       "                Location                                           Post_URL  \\\n",
       "0      Kesbewa,  Colombo  https://ikman.lk/en/ad/micro-panda-auto-2019-f...   \n",
       "1   Rajagiriya,  Colombo  https://ikman.lk/en/ad/toyota-gt86-company-mai...   \n",
       "2    Marawila,  Puttalam  https://ikman.lk/en/ad/toyota-ist-fl-grade-200...   \n",
       "3     Peradeniya,  Kandy  https://ikman.lk/en/ad/toyota-allion-240-2002-...   \n",
       "4    Veyangoda,  Gampaha  https://ikman.lk/en/ad/micro-panda-lc-10-2015-...   \n",
       "\n",
       "                 Seller_name     Seller_type Published_year  Published_month  \\\n",
       "0                     Sarath          Member           2021                7   \n",
       "1             D&D Auto Parts  Premium-Member           2021                6   \n",
       "2         Bihan Enterprises   Premium-Member           2021                7   \n",
       "3  Free Bird Media (Pvt) Ltd          Member           2021                7   \n",
       "4            Harsha Anuradhi          Member           2021                7   \n",
       "\n",
       "   Published_day  Current_year  Years_Old  \n",
       "0              2          2022          1  \n",
       "1             15          2022          1  \n",
       "2              5          2022          1  \n",
       "3              5          2022          1  \n",
       "4              5          2022          1  \n",
       "\n",
       "[5 rows x 21 columns]"
      ]
     },
     "execution_count": 21,
     "metadata": {},
     "output_type": "execute_result"
    }
   ],
   "source": [
    "df.head()"
   ]
  },
  {
   "cell_type": "code",
   "execution_count": 22,
   "id": "4efbeef5",
   "metadata": {},
   "outputs": [],
   "source": [
    "df=df.drop(columns=['Title', 'Brand', 'Model', 'Edition', 'Condition', 'Body', 'Location', 'Post_URL', 'Years_Old', 'Seller_name', 'Seller_type', 'Published_year', 'Published_month', 'Published_day', 'Current_year'])"
   ]
  },
  {
   "cell_type": "code",
   "execution_count": 23,
   "id": "a13cbff5",
   "metadata": {},
   "outputs": [
    {
     "data": {
      "text/html": [
       "<div>\n",
       "<style scoped>\n",
       "    .dataframe tbody tr th:only-of-type {\n",
       "        vertical-align: middle;\n",
       "    }\n",
       "\n",
       "    .dataframe tbody tr th {\n",
       "        vertical-align: top;\n",
       "    }\n",
       "\n",
       "    .dataframe thead th {\n",
       "        text-align: right;\n",
       "    }\n",
       "</style>\n",
       "<table border=\"1\" class=\"dataframe\">\n",
       "  <thead>\n",
       "    <tr style=\"text-align: right;\">\n",
       "      <th></th>\n",
       "      <th>Price (Rs)</th>\n",
       "      <th>Year</th>\n",
       "      <th>Transmission</th>\n",
       "      <th>Fuel</th>\n",
       "      <th>Capacity (cc)</th>\n",
       "      <th>Mileage (km)</th>\n",
       "    </tr>\n",
       "  </thead>\n",
       "  <tbody>\n",
       "    <tr>\n",
       "      <th>0</th>\n",
       "      <td>2795000</td>\n",
       "      <td>2019</td>\n",
       "      <td>Automatic</td>\n",
       "      <td>Petrol</td>\n",
       "      <td>1000</td>\n",
       "      <td>14000</td>\n",
       "    </tr>\n",
       "    <tr>\n",
       "      <th>1</th>\n",
       "      <td>11500000</td>\n",
       "      <td>2013</td>\n",
       "      <td>Automatic</td>\n",
       "      <td>Petrol</td>\n",
       "      <td>2000</td>\n",
       "      <td>27000</td>\n",
       "    </tr>\n",
       "    <tr>\n",
       "      <th>2</th>\n",
       "      <td>3300000</td>\n",
       "      <td>2003</td>\n",
       "      <td>Automatic</td>\n",
       "      <td>Petrol</td>\n",
       "      <td>1300</td>\n",
       "      <td>150000</td>\n",
       "    </tr>\n",
       "    <tr>\n",
       "      <th>3</th>\n",
       "      <td>4450000</td>\n",
       "      <td>2002</td>\n",
       "      <td>Automatic</td>\n",
       "      <td>Petrol</td>\n",
       "      <td>1500</td>\n",
       "      <td>124000</td>\n",
       "    </tr>\n",
       "    <tr>\n",
       "      <th>4</th>\n",
       "      <td>2173000</td>\n",
       "      <td>2015</td>\n",
       "      <td>Manual</td>\n",
       "      <td>Petrol</td>\n",
       "      <td>1000</td>\n",
       "      <td>15800</td>\n",
       "    </tr>\n",
       "  </tbody>\n",
       "</table>\n",
       "</div>"
      ],
      "text/plain": [
       "   Price (Rs)  Year Transmission    Fuel  Capacity (cc)  Mileage (km)\n",
       "0     2795000  2019    Automatic  Petrol           1000         14000\n",
       "1    11500000  2013    Automatic  Petrol           2000         27000\n",
       "2     3300000  2003    Automatic  Petrol           1300        150000\n",
       "3     4450000  2002    Automatic  Petrol           1500        124000\n",
       "4     2173000  2015       Manual  Petrol           1000         15800"
      ]
     },
     "execution_count": 23,
     "metadata": {},
     "output_type": "execute_result"
    }
   ],
   "source": [
    "df.head()"
   ]
  },
  {
   "cell_type": "markdown",
   "id": "f5a03e5e",
   "metadata": {},
   "source": [
    "### Encoding the categorical variables"
   ]
  },
  {
   "cell_type": "code",
   "execution_count": 24,
   "id": "151f1d9f",
   "metadata": {},
   "outputs": [
    {
     "data": {
      "text/plain": [
       "Index(['Transmission', 'Fuel'], dtype='object')"
      ]
     },
     "execution_count": 24,
     "metadata": {},
     "output_type": "execute_result"
    }
   ],
   "source": [
    "df.select_dtypes(include='object').columns"
   ]
  },
  {
   "cell_type": "code",
   "execution_count": 25,
   "id": "42e1f000",
   "metadata": {},
   "outputs": [],
   "source": [
    "# one hot encoding\n",
    "df = pd.get_dummies(data=df, drop_first=True)"
   ]
  },
  {
   "cell_type": "code",
   "execution_count": 26,
   "id": "7d5f0de7",
   "metadata": {},
   "outputs": [
    {
     "data": {
      "text/html": [
       "<div>\n",
       "<style scoped>\n",
       "    .dataframe tbody tr th:only-of-type {\n",
       "        vertical-align: middle;\n",
       "    }\n",
       "\n",
       "    .dataframe tbody tr th {\n",
       "        vertical-align: top;\n",
       "    }\n",
       "\n",
       "    .dataframe thead th {\n",
       "        text-align: right;\n",
       "    }\n",
       "</style>\n",
       "<table border=\"1\" class=\"dataframe\">\n",
       "  <thead>\n",
       "    <tr style=\"text-align: right;\">\n",
       "      <th></th>\n",
       "      <th>Price (Rs)</th>\n",
       "      <th>Year</th>\n",
       "      <th>Capacity (cc)</th>\n",
       "      <th>Mileage (km)</th>\n",
       "      <th>Transmission_Manual</th>\n",
       "      <th>Transmission_Other transmission</th>\n",
       "      <th>Transmission_Tiptronic</th>\n",
       "      <th>Fuel_Diesel</th>\n",
       "      <th>Fuel_Electric</th>\n",
       "      <th>Fuel_Hybrid</th>\n",
       "      <th>Fuel_Other fuel type</th>\n",
       "      <th>Fuel_Petrol</th>\n",
       "    </tr>\n",
       "  </thead>\n",
       "  <tbody>\n",
       "    <tr>\n",
       "      <th>0</th>\n",
       "      <td>2795000</td>\n",
       "      <td>2019</td>\n",
       "      <td>1000</td>\n",
       "      <td>14000</td>\n",
       "      <td>0</td>\n",
       "      <td>0</td>\n",
       "      <td>0</td>\n",
       "      <td>0</td>\n",
       "      <td>0</td>\n",
       "      <td>0</td>\n",
       "      <td>0</td>\n",
       "      <td>1</td>\n",
       "    </tr>\n",
       "    <tr>\n",
       "      <th>1</th>\n",
       "      <td>11500000</td>\n",
       "      <td>2013</td>\n",
       "      <td>2000</td>\n",
       "      <td>27000</td>\n",
       "      <td>0</td>\n",
       "      <td>0</td>\n",
       "      <td>0</td>\n",
       "      <td>0</td>\n",
       "      <td>0</td>\n",
       "      <td>0</td>\n",
       "      <td>0</td>\n",
       "      <td>1</td>\n",
       "    </tr>\n",
       "    <tr>\n",
       "      <th>2</th>\n",
       "      <td>3300000</td>\n",
       "      <td>2003</td>\n",
       "      <td>1300</td>\n",
       "      <td>150000</td>\n",
       "      <td>0</td>\n",
       "      <td>0</td>\n",
       "      <td>0</td>\n",
       "      <td>0</td>\n",
       "      <td>0</td>\n",
       "      <td>0</td>\n",
       "      <td>0</td>\n",
       "      <td>1</td>\n",
       "    </tr>\n",
       "    <tr>\n",
       "      <th>3</th>\n",
       "      <td>4450000</td>\n",
       "      <td>2002</td>\n",
       "      <td>1500</td>\n",
       "      <td>124000</td>\n",
       "      <td>0</td>\n",
       "      <td>0</td>\n",
       "      <td>0</td>\n",
       "      <td>0</td>\n",
       "      <td>0</td>\n",
       "      <td>0</td>\n",
       "      <td>0</td>\n",
       "      <td>1</td>\n",
       "    </tr>\n",
       "    <tr>\n",
       "      <th>4</th>\n",
       "      <td>2173000</td>\n",
       "      <td>2015</td>\n",
       "      <td>1000</td>\n",
       "      <td>15800</td>\n",
       "      <td>1</td>\n",
       "      <td>0</td>\n",
       "      <td>0</td>\n",
       "      <td>0</td>\n",
       "      <td>0</td>\n",
       "      <td>0</td>\n",
       "      <td>0</td>\n",
       "      <td>1</td>\n",
       "    </tr>\n",
       "  </tbody>\n",
       "</table>\n",
       "</div>"
      ],
      "text/plain": [
       "   Price (Rs)  Year  Capacity (cc)  Mileage (km)  Transmission_Manual  \\\n",
       "0     2795000  2019           1000         14000                    0   \n",
       "1    11500000  2013           2000         27000                    0   \n",
       "2     3300000  2003           1300        150000                    0   \n",
       "3     4450000  2002           1500        124000                    0   \n",
       "4     2173000  2015           1000         15800                    1   \n",
       "\n",
       "   Transmission_Other transmission  Transmission_Tiptronic  Fuel_Diesel  \\\n",
       "0                                0                       0            0   \n",
       "1                                0                       0            0   \n",
       "2                                0                       0            0   \n",
       "3                                0                       0            0   \n",
       "4                                0                       0            0   \n",
       "\n",
       "   Fuel_Electric  Fuel_Hybrid  Fuel_Other fuel type  Fuel_Petrol  \n",
       "0              0            0                     0            1  \n",
       "1              0            0                     0            1  \n",
       "2              0            0                     0            1  \n",
       "3              0            0                     0            1  \n",
       "4              0            0                     0            1  "
      ]
     },
     "execution_count": 26,
     "metadata": {},
     "output_type": "execute_result"
    }
   ],
   "source": [
    "df.head()"
   ]
  },
  {
   "cell_type": "code",
   "execution_count": 27,
   "id": "0455b1ac",
   "metadata": {},
   "outputs": [
    {
     "data": {
      "text/plain": [
       "(16309, 12)"
      ]
     },
     "execution_count": 27,
     "metadata": {},
     "output_type": "execute_result"
    }
   ],
   "source": [
    "df.shape"
   ]
  },
  {
   "cell_type": "code",
   "execution_count": 28,
   "id": "bb8d18eb",
   "metadata": {},
   "outputs": [],
   "source": [
    "# matrix of features\n",
    "x = df.drop(columns='Price (Rs)')"
   ]
  },
  {
   "cell_type": "code",
   "execution_count": 29,
   "id": "54f72401",
   "metadata": {},
   "outputs": [],
   "source": [
    "# target variable\n",
    "y = df['Price (Rs)']"
   ]
  },
  {
   "cell_type": "code",
   "execution_count": 30,
   "id": "bc9186bc",
   "metadata": {},
   "outputs": [],
   "source": [
    "from sklearn.model_selection import train_test_split\n",
    "x_train, x_test, y_train, y_test = train_test_split(x, y, test_size=0.2, random_state=0)"
   ]
  },
  {
   "cell_type": "code",
   "execution_count": 31,
   "id": "67f7c3c0",
   "metadata": {},
   "outputs": [
    {
     "data": {
      "text/plain": [
       "(13047, 11)"
      ]
     },
     "execution_count": 31,
     "metadata": {},
     "output_type": "execute_result"
    }
   ],
   "source": [
    "x_train.shape"
   ]
  },
  {
   "cell_type": "code",
   "execution_count": 32,
   "id": "d5a44ade",
   "metadata": {},
   "outputs": [
    {
     "data": {
      "text/plain": [
       "(3262, 11)"
      ]
     },
     "execution_count": 32,
     "metadata": {},
     "output_type": "execute_result"
    }
   ],
   "source": [
    "x_test.shape"
   ]
  },
  {
   "cell_type": "markdown",
   "id": "edfcd2bf",
   "metadata": {},
   "source": [
    "### Building The Model"
   ]
  },
  {
   "cell_type": "code",
   "execution_count": 34,
   "id": "ff6d5b97",
   "metadata": {},
   "outputs": [
    {
     "data": {
      "text/plain": [
       "RandomForestRegressor()"
      ]
     },
     "execution_count": 34,
     "metadata": {},
     "output_type": "execute_result"
    }
   ],
   "source": [
    "from sklearn.ensemble import RandomForestRegressor\n",
    "regressor= RandomForestRegressor()\n",
    "regressor.fit(x_train, y_train)"
   ]
  },
  {
   "cell_type": "code",
   "execution_count": 35,
   "id": "5ff1d311",
   "metadata": {},
   "outputs": [],
   "source": [
    "y_pred = regressor.predict(x_test)"
   ]
  },
  {
   "cell_type": "code",
   "execution_count": 36,
   "id": "bbd6a334",
   "metadata": {
    "scrolled": true
   },
   "outputs": [
    {
     "data": {
      "text/plain": [
       "0.8155837348605801"
      ]
     },
     "execution_count": 36,
     "metadata": {},
     "output_type": "execute_result"
    }
   ],
   "source": [
    "from sklearn.metrics import r2_score\n",
    "r2_score(y_test, y_pred)"
   ]
  },
  {
   "cell_type": "markdown",
   "id": "8e79f6db",
   "metadata": {},
   "source": [
    "### Hyperparameter Tuning"
   ]
  },
  {
   "cell_type": "code",
   "execution_count": 37,
   "id": "07ebe4bb",
   "metadata": {},
   "outputs": [],
   "source": [
    "from sklearn.model_selection import RandomizedSearchCV"
   ]
  },
  {
   "cell_type": "code",
   "execution_count": 38,
   "id": "cb9bcfb5",
   "metadata": {},
   "outputs": [],
   "source": [
    "parameters = {\n",
    "    'n_estimators':[100,200,300,400,500,600,700,800,900,1000],\n",
    "    'criterion':['mse','mae'],\n",
    "    'max_depth':[10,20,30,40,50],\n",
    "    'min_samples_split':[2,5,10,20,50],\n",
    "    'min_samples_leaf':[1,2,5,10],\n",
    "    'max_features':['auto', 'sqrt', 'log2']\n",
    "}"
   ]
  },
  {
   "cell_type": "code",
   "execution_count": 39,
   "id": "69b39398",
   "metadata": {},
   "outputs": [],
   "source": [
    "random_cv = RandomizedSearchCV(estimator=regressor, param_distributions=parameters, n_iter=10, \n",
    "                               scoring='neg_mean_absolute_error', cv=5, verbose=2, n_jobs=-1)"
   ]
  },
  {
   "cell_type": "code",
   "execution_count": 40,
   "id": "22f02fc1",
   "metadata": {},
   "outputs": [
    {
     "name": "stdout",
     "output_type": "stream",
     "text": [
      "Fitting 5 folds for each of 10 candidates, totalling 50 fits\n"
     ]
    },
    {
     "data": {
      "text/plain": [
       "RandomizedSearchCV(cv=5, estimator=RandomForestRegressor(), n_jobs=-1,\n",
       "                   param_distributions={'criterion': ['mse', 'mae'],\n",
       "                                        'max_depth': [10, 20, 30, 40, 50],\n",
       "                                        'max_features': ['auto', 'sqrt',\n",
       "                                                         'log2'],\n",
       "                                        'min_samples_leaf': [1, 2, 5, 10],\n",
       "                                        'min_samples_split': [2, 5, 10, 20, 50],\n",
       "                                        'n_estimators': [100, 200, 300, 400,\n",
       "                                                         500, 600, 700, 800,\n",
       "                                                         900, 1000]},\n",
       "                   scoring='neg_mean_absolute_error', verbose=2)"
      ]
     },
     "execution_count": 40,
     "metadata": {},
     "output_type": "execute_result"
    }
   ],
   "source": [
    "random_cv.fit(x_train, y_train)"
   ]
  },
  {
   "cell_type": "code",
   "execution_count": 41,
   "id": "a84b95e8",
   "metadata": {},
   "outputs": [
    {
     "data": {
      "text/plain": [
       "RandomForestRegressor(criterion='mae', max_depth=30, min_samples_split=5,\n",
       "                      n_estimators=300)"
      ]
     },
     "execution_count": 41,
     "metadata": {},
     "output_type": "execute_result"
    }
   ],
   "source": [
    "random_cv.best_estimator_"
   ]
  },
  {
   "cell_type": "code",
   "execution_count": 42,
   "id": "aa58acf9",
   "metadata": {},
   "outputs": [
    {
     "data": {
      "text/plain": [
       "{'n_estimators': 300,\n",
       " 'min_samples_split': 5,\n",
       " 'min_samples_leaf': 1,\n",
       " 'max_features': 'auto',\n",
       " 'max_depth': 30,\n",
       " 'criterion': 'mae'}"
      ]
     },
     "execution_count": 42,
     "metadata": {},
     "output_type": "execute_result"
    }
   ],
   "source": [
    "random_cv.best_params_"
   ]
  },
  {
   "cell_type": "markdown",
   "id": "84def2e6",
   "metadata": {},
   "source": [
    "### Predicting the price"
   ]
  },
  {
   "cell_type": "code",
   "execution_count": 43,
   "id": "b1950827",
   "metadata": {},
   "outputs": [
    {
     "data": {
      "text/html": [
       "<div>\n",
       "<style scoped>\n",
       "    .dataframe tbody tr th:only-of-type {\n",
       "        vertical-align: middle;\n",
       "    }\n",
       "\n",
       "    .dataframe tbody tr th {\n",
       "        vertical-align: top;\n",
       "    }\n",
       "\n",
       "    .dataframe thead th {\n",
       "        text-align: right;\n",
       "    }\n",
       "</style>\n",
       "<table border=\"1\" class=\"dataframe\">\n",
       "  <thead>\n",
       "    <tr style=\"text-align: right;\">\n",
       "      <th></th>\n",
       "      <th>Price (Rs)</th>\n",
       "      <th>Year</th>\n",
       "      <th>Capacity (cc)</th>\n",
       "      <th>Mileage (km)</th>\n",
       "      <th>Transmission_Manual</th>\n",
       "      <th>Transmission_Other transmission</th>\n",
       "      <th>Transmission_Tiptronic</th>\n",
       "      <th>Fuel_Diesel</th>\n",
       "      <th>Fuel_Electric</th>\n",
       "      <th>Fuel_Hybrid</th>\n",
       "      <th>Fuel_Other fuel type</th>\n",
       "      <th>Fuel_Petrol</th>\n",
       "    </tr>\n",
       "  </thead>\n",
       "  <tbody>\n",
       "    <tr>\n",
       "      <th>0</th>\n",
       "      <td>2795000</td>\n",
       "      <td>2019</td>\n",
       "      <td>1000</td>\n",
       "      <td>14000</td>\n",
       "      <td>0</td>\n",
       "      <td>0</td>\n",
       "      <td>0</td>\n",
       "      <td>0</td>\n",
       "      <td>0</td>\n",
       "      <td>0</td>\n",
       "      <td>0</td>\n",
       "      <td>1</td>\n",
       "    </tr>\n",
       "    <tr>\n",
       "      <th>1</th>\n",
       "      <td>11500000</td>\n",
       "      <td>2013</td>\n",
       "      <td>2000</td>\n",
       "      <td>27000</td>\n",
       "      <td>0</td>\n",
       "      <td>0</td>\n",
       "      <td>0</td>\n",
       "      <td>0</td>\n",
       "      <td>0</td>\n",
       "      <td>0</td>\n",
       "      <td>0</td>\n",
       "      <td>1</td>\n",
       "    </tr>\n",
       "    <tr>\n",
       "      <th>2</th>\n",
       "      <td>3300000</td>\n",
       "      <td>2003</td>\n",
       "      <td>1300</td>\n",
       "      <td>150000</td>\n",
       "      <td>0</td>\n",
       "      <td>0</td>\n",
       "      <td>0</td>\n",
       "      <td>0</td>\n",
       "      <td>0</td>\n",
       "      <td>0</td>\n",
       "      <td>0</td>\n",
       "      <td>1</td>\n",
       "    </tr>\n",
       "    <tr>\n",
       "      <th>3</th>\n",
       "      <td>4450000</td>\n",
       "      <td>2002</td>\n",
       "      <td>1500</td>\n",
       "      <td>124000</td>\n",
       "      <td>0</td>\n",
       "      <td>0</td>\n",
       "      <td>0</td>\n",
       "      <td>0</td>\n",
       "      <td>0</td>\n",
       "      <td>0</td>\n",
       "      <td>0</td>\n",
       "      <td>1</td>\n",
       "    </tr>\n",
       "    <tr>\n",
       "      <th>4</th>\n",
       "      <td>2173000</td>\n",
       "      <td>2015</td>\n",
       "      <td>1000</td>\n",
       "      <td>15800</td>\n",
       "      <td>1</td>\n",
       "      <td>0</td>\n",
       "      <td>0</td>\n",
       "      <td>0</td>\n",
       "      <td>0</td>\n",
       "      <td>0</td>\n",
       "      <td>0</td>\n",
       "      <td>1</td>\n",
       "    </tr>\n",
       "  </tbody>\n",
       "</table>\n",
       "</div>"
      ],
      "text/plain": [
       "   Price (Rs)  Year  Capacity (cc)  Mileage (km)  Transmission_Manual  \\\n",
       "0     2795000  2019           1000         14000                    0   \n",
       "1    11500000  2013           2000         27000                    0   \n",
       "2     3300000  2003           1300        150000                    0   \n",
       "3     4450000  2002           1500        124000                    0   \n",
       "4     2173000  2015           1000         15800                    1   \n",
       "\n",
       "   Transmission_Other transmission  Transmission_Tiptronic  Fuel_Diesel  \\\n",
       "0                                0                       0            0   \n",
       "1                                0                       0            0   \n",
       "2                                0                       0            0   \n",
       "3                                0                       0            0   \n",
       "4                                0                       0            0   \n",
       "\n",
       "   Fuel_Electric  Fuel_Hybrid  Fuel_Other fuel type  Fuel_Petrol  \n",
       "0              0            0                     0            1  \n",
       "1              0            0                     0            1  \n",
       "2              0            0                     0            1  \n",
       "3              0            0                     0            1  \n",
       "4              0            0                     0            1  "
      ]
     },
     "execution_count": 43,
     "metadata": {},
     "output_type": "execute_result"
    }
   ],
   "source": [
    "df.head()"
   ]
  },
  {
   "cell_type": "code",
   "execution_count": 67,
   "id": "dafbc1f9",
   "metadata": {},
   "outputs": [],
   "source": [
    "single_pred = [[2015,500,10000,0,1,0,0,0,0,0,1]]"
   ]
  },
  {
   "cell_type": "code",
   "execution_count": 68,
   "id": "bbbf7445",
   "metadata": {},
   "outputs": [
    {
     "data": {
      "text/plain": [
       "array([3974628.33333333])"
      ]
     },
     "execution_count": 68,
     "metadata": {},
     "output_type": "execute_result"
    }
   ],
   "source": [
    "regressor.predict(single_pred)"
   ]
  },
  {
   "cell_type": "code",
   "execution_count": null,
   "id": "e0445c33",
   "metadata": {},
   "outputs": [],
   "source": []
  }
 ],
 "metadata": {
  "kernelspec": {
   "display_name": "Python 3",
   "language": "python",
   "name": "python3"
  },
  "language_info": {
   "codemirror_mode": {
    "name": "ipython",
    "version": 3
   },
   "file_extension": ".py",
   "mimetype": "text/x-python",
   "name": "python",
   "nbconvert_exporter": "python",
   "pygments_lexer": "ipython3",
   "version": "3.8.8"
  }
 },
 "nbformat": 4,
 "nbformat_minor": 5
}
